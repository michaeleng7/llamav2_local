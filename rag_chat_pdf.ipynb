{
 "cells": [
  {
   "cell_type": "code",
   "execution_count": 29,
   "metadata": {},
   "outputs": [],
   "source": [
    "import os\n",
    "import shutil\n",
    "import argparse\n",
    "from langchain_community.vectorstores import Chroma\n",
    "from langchain_community.llms import Ollama\n",
    "from langchain.prompts import ChatPromptTemplate\n",
    "from langchain_community.embeddings import HuggingFaceBgeEmbeddings\n",
    "from langchain_community.document_loaders import PyPDFDirectoryLoader\n",
    "from langchain.text_splitter import RecursiveCharacterTextSplitter\n",
    "from langchain.schema.document import Document\n",
    "\n",
    "\n",
    "# Front-End Web\n",
    "import gradio as gr\n"
   ]
  },
  {
   "cell_type": "code",
   "execution_count": 30,
   "metadata": {},
   "outputs": [],
   "source": [
    "DATA_PATH = 'D:\\\\Workspace Irede\\\\llamav2_local\\\\docs\\\\chroma'\n",
    "CHROMA_PATH = 'D:\\\\Workspace Irede\\\\llamav2_local\\\\chroma'\n",
    "# Caminho para o modelo Ollama3\n",
    "model = Ollama(model=\"llama3\")"
   ]
  },
  {
   "cell_type": "code",
   "execution_count": 31,
   "metadata": {},
   "outputs": [],
   "source": [
    "def load_documents():\n",
    "    document_loader = PyPDFDirectoryLoader(DATA_PATH)\n",
    "    return document_loader.load()\n",
    "\n",
    "documents = load_documents()\n",
    "\n",
    "def split_documents(documents: list[Document]):\n",
    "    text_splitter = RecursiveCharacterTextSplitter(\n",
    "        chunk_size=800,\n",
    "        chunk_overlap=80,\n",
    "        length_function=len,\n",
    "        is_separator_regex=False,\n",
    "    )\n",
    "    return text_splitter.split_documents(documents)\n",
    "\n",
    "documents = load_documents()\n",
    "chunks = split_documents(documents)"
   ]
  },
  {
   "cell_type": "code",
   "execution_count": 32,
   "metadata": {},
   "outputs": [],
   "source": [
    "def calculate_chunk_ids(chunks):\n",
    "\n",
    "    # This will create IDs\n",
    "    # Page Source : Page Number : Chunk Index\n",
    "\n",
    "    last_page_id = None\n",
    "    current_chunk_index = 0\n",
    "\n",
    "    for chunk in chunks:\n",
    "        source = chunk.metadata.get(\"source\")\n",
    "        page = chunk.metadata.get(\"page\")\n",
    "        current_page_id = f\"{source}:{page}\"\n",
    "\n",
    "        if current_page_id == last_page_id:\n",
    "            current_chunk_index += 1\n",
    "        else:\n",
    "            current_chunk_index = 0\n",
    "\n",
    "        # Calculate the chunk ID\n",
    "        chunk_id = f\"{current_page_id}:{current_chunk_index}\"\n",
    "        last_page_id = current_page_id\n",
    "\n",
    "        # Add it to the page metadata\n",
    "        chunk.metadata[\"id\"] = chunk_id\n",
    "\n",
    "    return chunks\n",
    "\n",
    "def add_to_chroma(chunks: list[Document]):\n",
    "    db = Chroma(\n",
    "        persist_directory=CHROMA_PATH, embedding_function=get_embedding_function()\n",
    "    )\n",
    "\n",
    "    # Calculate Page IDs.\n",
    "    chunks_with_ids = calculate_chunk_ids(chunks)\n",
    "\n",
    "    # Add or Update the documents.\n",
    "    existing_items = db.get(include=[])  # IDs are always included by default\n",
    "    existing_ids = set(existing_items[\"ids\"])\n",
    "    print(f\"Number of existing documents in DB: {len(existing_ids)}\")\n",
    "\n",
    "    # Only add documents that don't exist in the DB.\n",
    "    new_chunks = []\n",
    "    for chunk in chunks_with_ids:\n",
    "        if chunk.metadata[\"id\"] not in existing_ids:\n",
    "            new_chunks.append(chunk)\n",
    "\n",
    "    if len(new_chunks):\n",
    "        print(f\"👉 Adding new documents: {len(new_chunks)}\")\n",
    "        new_chunk_ids = [chunk.metadata[\"id\"] for chunk in new_chunks]\n",
    "        db.add_documents(new_chunks, ids=new_chunk_ids)\n",
    "        db.persist()\n",
    "    else:\n",
    "        print(\"✅ No new documents to add\")"
   ]
  },
  {
   "cell_type": "code",
   "execution_count": 33,
   "metadata": {},
   "outputs": [],
   "source": [
    "def get_embedding_function():\n",
    "    model_name = \"BAAI/bge-small-en\"\n",
    "    model_kwargs = {\"device\": \"cpu\"}\n",
    "    encode_kwargs = {\"normalize_embeddings\": True}\n",
    "    hf = HuggingFaceBgeEmbeddings(\n",
    "        model_name=model_name, model_kwargs=model_kwargs, encode_kwargs=encode_kwargs\n",
    "    )\n",
    "    return hf\n",
    "\n",
    "# creates a command line interface for the user to perform queries\n",
    "def create_CLI_main():\n",
    "    parser = argparse.ArgumentParser()\n",
    "    parser.add_argument(\"query_text\", type=str, help=\"The query text.\")\n",
    "    args = parser.parse_args()\n",
    "    query_text = args.query_text\n",
    "    query_rag(query_text)\n",
    "\n",
    "PROMPT_TEMPLATE = \"\"\"\n",
    "Você é um assistente virtual, que responde exclusivamente em português.\n",
    "Use o contexto fornecido para responder à pergunta de forma clara e concisa.\n",
    "Se e pergunta for fora do contexto dos PDF, responda que não pode responder fora do tópico.:\n",
    "\n",
    "{context}\n",
    "\n",
    "---\n",
    "\n",
    "Answer the question based on the above context: {question}\n",
    "\"\"\"\n",
    "\n",
    "def query_rag(query_text: str, temperature: float = 0.1):\n",
    "    # Prepare the DB.\n",
    "    embedding_function = get_embedding_function()\n",
    "    db = Chroma(persist_directory=CHROMA_PATH, embedding_function=embedding_function)\n",
    "\n",
    "    # Search the DB.\n",
    "    results = db.similarity_search_with_score(query_text, k=5)\n",
    "\n",
    "    context_text = \"\\n\\n---\\n\\n\".join([doc.page_content for doc, _score in results])\n",
    "    prompt_template = ChatPromptTemplate.from_template(PROMPT_TEMPLATE)\n",
    "    prompt = prompt_template.format(context=context_text, question=query_text)\n",
    "    # print(prompt)\n",
    "\n",
    "    response_text = model.invoke(prompt, temperature=temperature)\n",
    "\n",
    "    sources = [doc.metadata.get(\"id\", None) for doc, _score in results]\n",
    "    formatted_response = f\"Response: {response_text}\\nSources: {sources}\"\n",
    "    print(formatted_response)\n",
    "    return response_text"
   ]
  },
  {
   "cell_type": "code",
   "execution_count": 34,
   "metadata": {},
   "outputs": [],
   "source": [
    "def clear_database():\n",
    "    if os.path.exists(CHROMA_PATH):\n",
    "        shutil.rmtree(CHROMA_PATH)\n",
    "\n",
    "# Checks if the database should be cleaned, loads the documents, breaks them into smaller chunks, and adds those chunks to the database\n",
    "def main():\n",
    "\n",
    "    # Check if the database should be cleared (using the --clear flag).\n",
    "    parser = argparse.ArgumentParser()\n",
    "    parser.add_argument(\"--reset\", action=\"store_true\", help=\"Reset the database.\")\n",
    "    args = parser.parse_args()\n",
    "    if args.reset:\n",
    "        print(\"✨ Clearing Database\")\n",
    "        clear_database()\n",
    "\n",
    "    # Create (or update) the data store.\n",
    "    documents = load_documents()\n",
    "    chunks = split_documents(documents)\n",
    "    add_to_chroma(chunks)"
   ]
  },
  {
   "cell_type": "code",
   "execution_count": 35,
   "metadata": {},
   "outputs": [
    {
     "name": "stdout",
     "output_type": "stream",
     "text": [
      "Running on local URL:  http://127.0.0.1:7860\n",
      "\n",
      "To create a public link, set `share=True` in `launch()`.\n"
     ]
    },
    {
     "data": {
      "text/html": [
       "<div><iframe src=\"http://127.0.0.1:7860/\" width=\"100%\" height=\"500\" allow=\"autoplay; camera; microphone; clipboard-read; clipboard-write;\" frameborder=\"0\" allowfullscreen></iframe></div>"
      ],
      "text/plain": [
       "<IPython.core.display.HTML object>"
      ]
     },
     "metadata": {},
     "output_type": "display_data"
    },
    {
     "name": "stdout",
     "output_type": "stream",
     "text": [
      "Response: Bom dia!\n",
      "Sources: ['D:\\\\Workspace Irede\\\\llamav2_local\\\\docs\\\\chroma\\\\K8S - Definição, Comparação, Cluster de Nó Único.pdf:22:0', 'D:\\\\Workspace Irede\\\\llamav2_local\\\\docs\\\\chroma\\\\Tipos de Computação em Nuvem - IaaS, PaaS e SaaS.pdf:1:2', 'D:\\\\Workspace Irede\\\\llamav2_local\\\\docs\\\\chroma\\\\Tipos de Computação em Nuvem - IaaS, PaaS e SaaS.pdf:1:1', 'D:\\\\Workspace Irede\\\\llamav2_local\\\\docs\\\\chroma\\\\K8S - Definição, Comparação, Cluster de Nó Único.pdf:2:0', 'D:\\\\Workspace Irede\\\\llamav2_local\\\\docs\\\\chroma\\\\K8S - Definição, Comparação, Cluster de Nó Único.pdf:19:0']\n",
      "Response: Kubernetes é um sistema distribuído que forma um cluster, podendo incluir máquinas físicas e virtuais, tanto on-premise quanto na nuvem.\n",
      "Sources: ['D:\\\\Workspace Irede\\\\llamav2_local\\\\docs\\\\chroma\\\\K8S - Definição, Comparação, Cluster de Nó Único.pdf:4:0', 'D:\\\\Workspace Irede\\\\llamav2_local\\\\docs\\\\chroma\\\\K8S - Definição, Comparação, Cluster de Nó Único.pdf:1:0', 'D:\\\\Workspace Irede\\\\llamav2_local\\\\docs\\\\chroma\\\\K8S - Definição, Comparação, Cluster de Nó Único.pdf:3:0', 'D:\\\\Workspace Irede\\\\llamav2_local\\\\docs\\\\chroma\\\\K8S - Definição, Comparação, Cluster de Nó Único.pdf:0:0', 'D:\\\\Workspace Irede\\\\llamav2_local\\\\docs\\\\chroma\\\\K8S - Definição, Comparação, Cluster de Nó Único.pdf:2:0']\n",
      "Keyboard interruption in main thread... closing server.\n"
     ]
    },
    {
     "name": "stderr",
     "output_type": "stream",
     "text": [
      "usage: ipykernel_launcher.py [-h] [--reset]\n",
      "ipykernel_launcher.py: error: unrecognized arguments: --f=c:\\Users\\micha\\AppData\\Roaming\\jupyter\\runtime\\kernel-v2-5788PHG4ywPqyh7k.json\n"
     ]
    },
    {
     "ename": "SystemExit",
     "evalue": "2",
     "output_type": "error",
     "traceback": [
      "An exception has occurred, use %tb to see the full traceback.\n",
      "\u001b[1;31mSystemExit\u001b[0m\u001b[1;31m:\u001b[0m 2\n"
     ]
    },
    {
     "name": "stderr",
     "output_type": "stream",
     "text": [
      "c:\\Users\\micha\\anaconda3\\Lib\\site-packages\\IPython\\core\\interactiveshell.py:3561: UserWarning: To exit: use 'exit', 'quit', or Ctrl-D.\n",
      "  warn(\"To exit: use 'exit', 'quit', or Ctrl-D.\", stacklevel=1)\n"
     ]
    }
   ],
   "source": [
    "def chat(query):\n",
    "    return query_rag(query)\n",
    "\n",
    "# Create the chat interface using Gradio\n",
    "iface = gr.Interface(fn=chat, inputs=\"text\", outputs=\"text\", title=\"Chat Homero APP\")\n",
    "\n",
    "if __name__ == \"__main__\":\n",
    "    iface.launch(debug=True)\n",
    "    main()"
   ]
  }
 ],
 "metadata": {
  "kernelspec": {
   "display_name": "base",
   "language": "python",
   "name": "python3"
  },
  "language_info": {
   "codemirror_mode": {
    "name": "ipython",
    "version": 3
   },
   "file_extension": ".py",
   "mimetype": "text/x-python",
   "name": "python",
   "nbconvert_exporter": "python",
   "pygments_lexer": "ipython3",
   "version": "3.11.7"
  }
 },
 "nbformat": 4,
 "nbformat_minor": 2
}
