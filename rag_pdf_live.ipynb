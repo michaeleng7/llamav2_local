{
 "cells": [
  {
   "cell_type": "code",
   "execution_count": 1,
   "metadata": {},
   "outputs": [],
   "source": [
    "import logging\n",
    "from transformers import AutoTokenizer, AutoModelForCausalLM, pipeline\n",
    "# Importar Módulos Langchain\n",
    "from langchain.document_loaders import PyMuPDFLoader, DirectoryLoader\n",
    "from langchain.text_splitter import RecursiveCharacterTextSplitter\n",
    "from langchain.embeddings.sentence_transformer import SentenceTransformerEmbeddings\n",
    "from langchain.vectorstores import Chroma\n",
    "from langchain.prompts import PromptTemplate\n",
    "from langchain.chains import RetrievalQA\n",
    "from langchain.llms import LlamaCpp, CTransformers\n",
    "\n",
    "# Importar módulo para Front-End Web\n",
    "import gradio as gr\n",
    "\n",
    "# Importar módulo para carregar variáveis de ambiente do projeto\n",
    "from dotenv import load_dotenv\n",
    "import os"
   ]
  },
  {
   "cell_type": "code",
   "execution_count": 106,
   "metadata": {},
   "outputs": [
    {
     "data": {
      "application/vnd.jupyter.widget-view+json": {
       "model_id": "714feaae760e46cc9371e07c92de266f",
       "version_major": 2,
       "version_minor": 0
      },
      "text/plain": [
       "tokenizer_config.json:   0%|          | 0.00/3.30k [00:00<?, ?B/s]"
      ]
     },
     "metadata": {},
     "output_type": "display_data"
    },
    {
     "name": "stderr",
     "output_type": "stream",
     "text": [
      "c:\\Users\\micha\\anaconda3\\Lib\\site-packages\\huggingface_hub\\file_download.py:157: UserWarning: `huggingface_hub` cache-system uses symlinks by default to efficiently store duplicated files but your machine does not support them in C:\\Users\\micha\\.cache\\huggingface\\hub\\models--tiiuae--falcon-11B. Caching files will still work but in a degraded version that might require more space on your disk. This warning can be disabled by setting the `HF_HUB_DISABLE_SYMLINKS_WARNING` environment variable. For more details, see https://huggingface.co/docs/huggingface_hub/how-to-cache#limitations.\n",
      "To support symlinks on Windows, you either need to activate Developer Mode or to run Python as an administrator. In order to see activate developer mode, see this article: https://docs.microsoft.com/en-us/windows/apps/get-started/enable-your-device-for-development\n",
      "  warnings.warn(message)\n"
     ]
    },
    {
     "data": {
      "application/vnd.jupyter.widget-view+json": {
       "model_id": "7cf7712c9311482aa2e01f336bbeaedd",
       "version_major": 2,
       "version_minor": 0
      },
      "text/plain": [
       "tokenizer.json:   0%|          | 0.00/2.73M [00:00<?, ?B/s]"
      ]
     },
     "metadata": {},
     "output_type": "display_data"
    },
    {
     "data": {
      "application/vnd.jupyter.widget-view+json": {
       "model_id": "b21b8d89c369492598b0b19b07e69622",
       "version_major": 2,
       "version_minor": 0
      },
      "text/plain": [
       "special_tokens_map.json:   0%|          | 0.00/448 [00:00<?, ?B/s]"
      ]
     },
     "metadata": {},
     "output_type": "display_data"
    },
    {
     "data": {
      "application/vnd.jupyter.widget-view+json": {
       "model_id": "62bab8ae6e7641b9a7121b5565336a0b",
       "version_major": 2,
       "version_minor": 0
      },
      "text/plain": [
       "config.json:   0%|          | 0.00/1.39k [00:00<?, ?B/s]"
      ]
     },
     "metadata": {},
     "output_type": "display_data"
    },
    {
     "data": {
      "application/vnd.jupyter.widget-view+json": {
       "model_id": "1398518e5b96439dbb5e07a3b95cb6dd",
       "version_major": 2,
       "version_minor": 0
      },
      "text/plain": [
       "model.safetensors.index.json:   0%|          | 0.00/31.5k [00:00<?, ?B/s]"
      ]
     },
     "metadata": {},
     "output_type": "display_data"
    },
    {
     "data": {
      "application/vnd.jupyter.widget-view+json": {
       "model_id": "b84cda14623a414f98d64b43e4a34839",
       "version_major": 2,
       "version_minor": 0
      },
      "text/plain": [
       "Downloading shards:   0%|          | 0/5 [00:00<?, ?it/s]"
      ]
     },
     "metadata": {},
     "output_type": "display_data"
    },
    {
     "data": {
      "application/vnd.jupyter.widget-view+json": {
       "model_id": "a505a9bf20b044c4a38c3a666d8c99d4",
       "version_major": 2,
       "version_minor": 0
      },
      "text/plain": [
       "model-00001-of-00005.safetensors:   0%|          | 0.00/4.98G [00:00<?, ?B/s]"
      ]
     },
     "metadata": {},
     "output_type": "display_data"
    },
    {
     "data": {
      "application/vnd.jupyter.widget-view+json": {
       "model_id": "73393dc7021a450693e21c33dc36d844",
       "version_major": 2,
       "version_minor": 0
      },
      "text/plain": [
       "model-00002-of-00005.safetensors:   0%|          | 0.00/4.93G [00:00<?, ?B/s]"
      ]
     },
     "metadata": {},
     "output_type": "display_data"
    },
    {
     "data": {
      "application/vnd.jupyter.widget-view+json": {
       "model_id": "1c7284a17282445dbe31ea91b9fa529b",
       "version_major": 2,
       "version_minor": 0
      },
      "text/plain": [
       "model-00003-of-00005.safetensors:   0%|          | 0.00/4.93G [00:00<?, ?B/s]"
      ]
     },
     "metadata": {},
     "output_type": "display_data"
    },
    {
     "data": {
      "application/vnd.jupyter.widget-view+json": {
       "model_id": "fd24dc2245c5444db6391442efdcc56a",
       "version_major": 2,
       "version_minor": 0
      },
      "text/plain": [
       "model-00004-of-00005.safetensors:   0%|          | 0.00/4.93G [00:00<?, ?B/s]"
      ]
     },
     "metadata": {},
     "output_type": "display_data"
    },
    {
     "data": {
      "application/vnd.jupyter.widget-view+json": {
       "model_id": "fa11e67e78314f58add7ecde73479ce0",
       "version_major": 2,
       "version_minor": 0
      },
      "text/plain": [
       "model-00005-of-00005.safetensors:   0%|          | 0.00/2.43G [00:00<?, ?B/s]"
      ]
     },
     "metadata": {},
     "output_type": "display_data"
    },
    {
     "ename": "",
     "evalue": "",
     "output_type": "error",
     "traceback": [
      "\u001b[1;31mO Kernel deu pane ao executar o código na célula atual ou em uma célula anterior. \n",
      "\u001b[1;31mAnalise o código nas células para identificar uma possível causa da pane. \n",
      "\u001b[1;31mClique <a href='https://aka.ms/vscodeJupyterKernelCrash'>aqui</a> para obter mais informações. \n",
      "\u001b[1;31mConsulte Jupyter <a href='command:jupyter.viewOutput'>log</a> para obter mais detalhes."
     ]
    }
   ],
   "source": [
    "def load_model_and_tokenizer(model_name: str):\n",
    "    try:\n",
    "        tokenizer = AutoTokenizer.from_pretrained(model_name)\n",
    "        model = AutoModelForCausalLM.from_pretrained(model_name)\n",
    "        print(\"Modelo e tokenizador carregados com sucesso.\")\n",
    "        \n",
    "        # Teste de geração de texto\n",
    "        generator = pipeline(\"text-generation\", model=model, tokenizer=tokenizer)\n",
    "        test_output = generator(\"Teste de geração de texto.\", max_length=50, num_return_sequences=1)\n",
    "        print(\"Teste de geração de texto bem-sucedido: \", test_output[0]['generated_text'])\n",
    "        \n",
    "        return model, tokenizer\n",
    "    except Exception as e:\n",
    "        print(f\"Erro ao carregar o modelo ou tokenizador: {e}\")\n",
    "        return None, None\n",
    "\n",
    "model_name = \"tiiuae/falcon-11B\"\n",
    "model, tokenizer = load_model_and_tokenizer(model_name)"
   ]
  },
  {
   "cell_type": "code",
   "execution_count": 94,
   "metadata": {},
   "outputs": [],
   "source": [
    "class ChatPDF:\n",
    "\n",
    "    def __init__(self, documents_folder: str, vectordb_folder: str, model_path: str, sentence_embedding_model: str, temperature: float = 0.1):\n",
    "        \"\"\"\n",
    "        Constrói todos os atributos necessários para o objeto ChatPDF\n",
    "\n",
    "        Args:\n",
    "            documents_folder (str): Caminho/Pasta com os documentos que serão carregados para conversação no Chat\n",
    "            vectordb_folder (str): Caminho/Pasta onde ficarão os arquivos do Chroma (Vector DB)\n",
    "            model_path (str): Caminho/Pasta que aponta para o modelo LLM a ser utilizado\n",
    "            sentence_embedding_model (str): Nome do modelo de Embedding que será usado para gerar os tokens dos documentos\n",
    "            temperature (float, optional): Temperatura para calibrar o nível de aleatoriedade das respostas. O padrão é 0.1 (Muito determinístico, pouco aleatório)\n",
    "        \"\"\"\n",
    "        self.documents_folder = documents_folder\n",
    "        self.vectordb_folder = vectordb_folder\n",
    "        self.model_path = model_path\n",
    "        self.sentence_embedding_model = sentence_embedding_model\n",
    "        self.temperature = temperature\n",
    "        self.pages = []\n",
    "        self.chunks = []\n",
    "\n",
    "    def load(self) -> int:\n",
    "        \"\"\"\n",
    "        Realiza a carga dos documentos do caminho/pasta definido no atributo documents_folder.\n",
    "\n",
    "        Returns:\n",
    "            int: Quantidade total de páginas carregadas de todos os arquivos PDF\n",
    "        \"\"\"\n",
    "\n",
    "        loader = DirectoryLoader(\n",
    "            self.documents_folder,\n",
    "            glob=\"**/*.pdf\",\n",
    "            loader_cls=PyMuPDFLoader,\n",
    "            show_progress=True,\n",
    "            use_multithreading=True\n",
    "        )\n",
    "\n",
    "        self.pages = loader.load()\n",
    "\n",
    "        return len(self.pages)\n",
    "    \n",
    "    def split(self, chunk_size: int = 800, chunk_overlap: int = 350) -> int:\n",
    "        \"\"\"\n",
    "        Realiza o split das páginas em chunks para armazenar no Vector DB\n",
    "\n",
    "        Args:\n",
    "            chunk_size (int, optional): Quantidade máxima de caracteres de cada chunk. O padrão é 1500.\n",
    "            chunk_overlap (int, optional): Quantidade de caracteres de overlap entre chunks. O padrão é 150.\n",
    "\n",
    "        Returns:\n",
    "            int: Quantidade total de chunks de todas as páginas de todos os documentos carregados\n",
    "        \"\"\"\n",
    "\n",
    "        text_splitter = RecursiveCharacterTextSplitter(\n",
    "            chunk_size=chunk_size,\n",
    "            chunk_overlap=chunk_overlap\n",
    "        )\n",
    "\n",
    "        self.chunks = text_splitter.split_documents(self.pages)\n",
    "\n",
    "        return len(self.chunks)\n",
    "    \n",
    "    def get_embeddings(self):\n",
    "        \"\"\"\n",
    "        Obtem os embeddings do modelo de linguagem definido no atributo sentence_embedding_model.\n",
    "        \"\"\"\n",
    "        self.embeddings = SentenceTransformerEmbeddings(model_name=self.sentence_embedding_model)\n",
    "\n",
    "    def store(self):\n",
    "        \"\"\"\n",
    "        Armazena os chunks de todos os documentos no Vector DB, utilizando o embedding definido. \n",
    "        \"\"\"\n",
    "        vectordb = Chroma.from_documents(\n",
    "            documents=self.chunks,\n",
    "            embedding=self.embeddings,\n",
    "            persist_directory=self.vectordb_folder\n",
    "        )\n",
    "\n",
    "        vectordb.persist()\n",
    "\n",
    "        self.vectordb = vectordb\n",
    "\n",
    "    def create_llm(self):\n",
    "        \"\"\"\n",
    "        Cria uma LLM local, com base no modelo definido no atributo model_path.\n",
    "        \"\"\"\n",
    "        \n",
    "        self.llm = LlamaCpp(model_path=self.model_path, verbose=True, n_ctx=2048, temperature=self.temperature)\n",
    "\n",
    "    def create_retriever(self):\n",
    "        \"\"\"\n",
    "        Cria um retriever de documentos com base do Vector DB já carregado com os documentos.\n",
    "        \"\"\"\n",
    "        self.retriever = self.vectordb.as_retriever(search_kwargs={'k':5})\n",
    "\n",
    "    def create_qa_session(self):\n",
    "        \"\"\"\n",
    "        Cria uma sessão de QA, usando o LLM e Retriever já instanciados.\n",
    "        \"\"\"\n",
    "\n",
    "        PROMPT_TEMPLATE = \"\"\" \n",
    "        Você é um assistente especializado em responder perguntas sobre documentos armazenados. \n",
    "        Use o contexto fornecido para responder à pergunta de forma clara e concisa. \n",
    "        Responda sempre em português.\n",
    "        Se não souber a resposta, diga que não sabe.\n",
    "        Contexto: {context}\n",
    "        Pergunta: {question}\n",
    "        Resposta:\"\"\"\n",
    "\n",
    "        QA_CHAIN_PROMPT = PromptTemplate.from_template(PROMPT_TEMPLATE)\n",
    "\n",
    "        self.qa = RetrievalQA.from_chain_type(\n",
    "            self.llm,\n",
    "            'stuff',\n",
    "            retriever=self.retriever,\n",
    "            return_source_documents=True,\n",
    "            chain_type_kwargs={'prompt': QA_CHAIN_PROMPT}\n",
    "        )"
   ]
  },
  {
   "cell_type": "code",
   "execution_count": 95,
   "metadata": {},
   "outputs": [],
   "source": [
    "# Carrega as variáveis de ambiente do arquivo .env, para utilizar na hora de parametrizar o objeto ChatPDF\n",
    "load_dotenv()\n",
    "\n",
    "MODEL_PATH = os.getenv('MODEL_PATH')\n",
    "VECTORDB_FOLDER = os.getenv('VECTORDB_FOLDER')\n",
    "DOCUMENTS_FOLDER = os.getenv('DOCUMENTS_FOLDER')\n",
    "SENTENCE_EMBEDDING_MODEL = os.getenv('SENTENCE_EMBEDDING_MODEL')"
   ]
  },
  {
   "cell_type": "code",
   "execution_count": 96,
   "metadata": {},
   "outputs": [],
   "source": [
    "# Cria um objeto ChatPDF\n",
    "chat = ChatPDF(DOCUMENTS_FOLDER, VECTORDB_FOLDER, MODEL_PATH, SENTENCE_EMBEDDING_MODEL, temperature=0.2)"
   ]
  },
  {
   "cell_type": "code",
   "execution_count": 97,
   "metadata": {},
   "outputs": [
    {
     "name": "stderr",
     "output_type": "stream",
     "text": [
      "100%|██████████| 2/2 [00:00<00:00, 80.00it/s]\n"
     ]
    },
    {
     "data": {
      "text/plain": [
       "29"
      ]
     },
     "execution_count": 97,
     "metadata": {},
     "output_type": "execute_result"
    }
   ],
   "source": [
    "# Executa a carga dos documentos PDF que iremos interagir na sessão de Chat Q&A\n",
    "chat.load()"
   ]
  },
  {
   "cell_type": "code",
   "execution_count": 98,
   "metadata": {},
   "outputs": [
    {
     "data": {
      "text/plain": [
       "32"
      ]
     },
     "execution_count": 98,
     "metadata": {},
     "output_type": "execute_result"
    }
   ],
   "source": [
    "# Executa o split dos documentos carregados\n",
    "chat.split()"
   ]
  },
  {
   "cell_type": "code",
   "execution_count": 99,
   "metadata": {},
   "outputs": [
    {
     "name": "stderr",
     "output_type": "stream",
     "text": [
      "c:\\Users\\micha\\anaconda3\\Lib\\site-packages\\huggingface_hub\\file_download.py:1132: FutureWarning: `resume_download` is deprecated and will be removed in version 1.0.0. Downloads always resume when possible. If you want to force a new download, use `force_download=True`.\n",
      "  warnings.warn(\n"
     ]
    }
   ],
   "source": [
    "# Obtem os embeddings do modelo de linguagem selecionado\n",
    "chat.get_embeddings()"
   ]
  },
  {
   "cell_type": "code",
   "execution_count": 100,
   "metadata": {},
   "outputs": [],
   "source": [
    "# Armazena os chunks dos documentos, junto com o embedding, no Vector DB (Chroma)\n",
    "chat.store()"
   ]
  },
  {
   "cell_type": "code",
   "execution_count": 101,
   "metadata": {},
   "outputs": [
    {
     "name": "stderr",
     "output_type": "stream",
     "text": [
      "llama_model_loader: loaded meta data with 21 key-value pairs and 364 tensors from D:\\Workspace Irede\\llamav2_local\\models\\falcon_11B (version GGUF V3 (latest))\n",
      "llama_model_loader: Dumping metadata keys/values. Note: KV overrides do not apply in this output.\n",
      "llama_model_loader: - kv   0:                       general.architecture str              = falcon\n",
      "llama_model_loader: - kv   1:                               general.name str              = Falcon\n",
      "llama_model_loader: - kv   2:                      falcon.context_length u32              = 2048\n",
      "llama_model_loader: - kv   3:                  falcon.tensor_data_layout str              = jploski\n",
      "llama_model_loader: - kv   4:                    falcon.embedding_length u32              = 4096\n",
      "llama_model_loader: - kv   5:                 falcon.feed_forward_length u32              = 16384\n",
      "llama_model_loader: - kv   6:                         falcon.block_count u32              = 60\n",
      "llama_model_loader: - kv   7:                falcon.attention.head_count u32              = 32\n",
      "llama_model_loader: - kv   8:             falcon.attention.head_count_kv u32              = 8\n",
      "llama_model_loader: - kv   9:        falcon.attention.layer_norm_epsilon f32              = 0.000010\n",
      "llama_model_loader: - kv  10:                          general.file_type u32              = 2\n",
      "llama_model_loader: - kv  11:                       tokenizer.ggml.model str              = gpt2\n",
      "llama_model_loader: - kv  12:                         tokenizer.ggml.pre str              = falcon\n",
      "llama_model_loader: - kv  13:                      tokenizer.ggml.tokens arr[str,65024]   = [\">>TITLE<<\", \">>ABSTRACT<<\", \">>INTR...\n",
      "llama_model_loader: - kv  14:                  tokenizer.ggml.token_type arr[i32,65024]   = [3, 3, 3, 3, 3, 3, 3, 3, 3, 3, 3, 3, ...\n",
      "llama_model_loader: - kv  15:                      tokenizer.ggml.merges arr[str,64784]   = [\"Ġ t\", \"Ġ a\", \"i n\", \"h e\", \"r e\",...\n",
      "llama_model_loader: - kv  16:                tokenizer.ggml.bos_token_id u32              = 500\n",
      "llama_model_loader: - kv  17:                tokenizer.ggml.eos_token_id u32              = 11\n",
      "llama_model_loader: - kv  18:            tokenizer.ggml.padding_token_id u32              = 11\n",
      "llama_model_loader: - kv  19:                    tokenizer.chat_template str              = {% for message in messages %}\\n{% if m...\n",
      "llama_model_loader: - kv  20:               general.quantization_version u32              = 2\n",
      "llama_model_loader: - type  f32:  122 tensors\n",
      "llama_model_loader: - type q4_0:  241 tensors\n",
      "llama_model_loader: - type q8_0:    1 tensors\n"
     ]
    },
    {
     "name": "stderr",
     "output_type": "stream",
     "text": [
      "llm_load_vocab: special tokens cache size = 13\n",
      "llm_load_vocab: token to piece cache size = 0.3884 MB\n",
      "llm_load_print_meta: format           = GGUF V3 (latest)\n",
      "llm_load_print_meta: arch             = falcon\n",
      "llm_load_print_meta: vocab type       = BPE\n",
      "llm_load_print_meta: n_vocab          = 65024\n",
      "llm_load_print_meta: n_merges         = 64784\n",
      "llm_load_print_meta: n_ctx_train      = 2048\n",
      "llm_load_print_meta: n_embd           = 4096\n",
      "llm_load_print_meta: n_head           = 32\n",
      "llm_load_print_meta: n_head_kv        = 8\n",
      "llm_load_print_meta: n_layer          = 60\n",
      "llm_load_print_meta: n_rot            = 128\n",
      "llm_load_print_meta: n_swa            = 0\n",
      "llm_load_print_meta: n_embd_head_k    = 128\n",
      "llm_load_print_meta: n_embd_head_v    = 128\n",
      "llm_load_print_meta: n_gqa            = 4\n",
      "llm_load_print_meta: n_embd_k_gqa     = 1024\n",
      "llm_load_print_meta: n_embd_v_gqa     = 1024\n",
      "llm_load_print_meta: f_norm_eps       = 1.0e-05\n",
      "llm_load_print_meta: f_norm_rms_eps   = 0.0e+00\n",
      "llm_load_print_meta: f_clamp_kqv      = 0.0e+00\n",
      "llm_load_print_meta: f_max_alibi_bias = 0.0e+00\n",
      "llm_load_print_meta: f_logit_scale    = 0.0e+00\n",
      "llm_load_print_meta: n_ff             = 16384\n",
      "llm_load_print_meta: n_expert         = 0\n",
      "llm_load_print_meta: n_expert_used    = 0\n",
      "llm_load_print_meta: causal attn      = 1\n",
      "llm_load_print_meta: pooling type     = 0\n",
      "llm_load_print_meta: rope type        = 2\n",
      "llm_load_print_meta: rope scaling     = linear\n",
      "llm_load_print_meta: freq_base_train  = 10000.0\n",
      "llm_load_print_meta: freq_scale_train = 1\n",
      "llm_load_print_meta: n_ctx_orig_yarn  = 2048\n",
      "llm_load_print_meta: rope_finetuned   = unknown\n",
      "llm_load_print_meta: ssm_d_conv       = 0\n",
      "llm_load_print_meta: ssm_d_inner      = 0\n",
      "llm_load_print_meta: ssm_d_state      = 0\n",
      "llm_load_print_meta: ssm_dt_rank      = 0\n",
      "llm_load_print_meta: model type       = 40B\n",
      "llm_load_print_meta: model ftype      = Q4_0\n",
      "llm_load_print_meta: model params     = 11.10 B\n",
      "llm_load_print_meta: model size       = 5.94 GiB (4.60 BPW) \n",
      "llm_load_print_meta: general.name     = Falcon\n",
      "llm_load_print_meta: BOS token        = 500 '>>'\n",
      "llm_load_print_meta: EOS token        = 11 '<|endoftext|>'\n",
      "llm_load_print_meta: PAD token        = 11 '<|endoftext|>'\n",
      "llm_load_print_meta: LF token         = 138 'Ä'\n",
      "llm_load_print_meta: EOT token        = 11 '<|endoftext|>'\n",
      "llm_load_print_meta: max token length = 130\n",
      "llm_load_tensors: ggml ctx size =    0.19 MiB\n",
      "llm_load_tensors:        CPU buffer size =  6084.66 MiB\n",
      "................................................................................................\n",
      "llama_new_context_with_model: n_batch is less than GGML_KQ_MASK_PAD - increasing to 32\n",
      "llama_new_context_with_model: n_ctx      = 2048\n",
      "llama_new_context_with_model: n_batch    = 32\n",
      "llama_new_context_with_model: n_ubatch   = 32\n",
      "llama_new_context_with_model: flash_attn = 0\n",
      "llama_new_context_with_model: freq_base  = 10000.0\n",
      "llama_new_context_with_model: freq_scale = 1\n",
      "llama_kv_cache_init:        CPU KV buffer size =   480.00 MiB\n",
      "llama_new_context_with_model: KV self size  =  480.00 MiB, K (f16):  240.00 MiB, V (f16):  240.00 MiB\n",
      "llama_new_context_with_model:        CPU  output buffer size =     0.25 MiB\n",
      "llama_new_context_with_model:        CPU compute buffer size =    11.00 MiB\n",
      "llama_new_context_with_model: graph nodes  = 1988\n",
      "llama_new_context_with_model: graph splits = 1\n",
      "AVX = 1 | AVX_VNNI = 0 | AVX2 = 1 | AVX512 = 0 | AVX512_VBMI = 0 | AVX512_VNNI = 0 | AVX512_BF16 = 0 | FMA = 1 | NEON = 0 | SVE = 0 | ARM_FMA = 0 | F16C = 1 | FP16_VA = 0 | WASM_SIMD = 0 | BLAS = 0 | SSE3 = 1 | SSSE3 = 1 | VSX = 0 | MATMUL_INT8 = 0 | LLAMAFILE = 0 | \n",
      "Model metadata: {'falcon.embedding_length': '4096', 'general.name': 'Falcon', 'falcon.attention.head_count_kv': '8', 'general.architecture': 'falcon', 'falcon.context_length': '2048', 'falcon.tensor_data_layout': 'jploski', 'falcon.feed_forward_length': '16384', 'falcon.block_count': '60', 'falcon.attention.head_count': '32', 'falcon.attention.layer_norm_epsilon': '0.000010', 'tokenizer.ggml.eos_token_id': '11', 'general.file_type': '2', 'tokenizer.ggml.model': 'gpt2', 'tokenizer.ggml.pre': 'falcon', 'general.quantization_version': '2', 'tokenizer.ggml.bos_token_id': '500', 'tokenizer.ggml.padding_token_id': '11', 'tokenizer.chat_template': \"{% for message in messages %}\\n{% if message['role'] == 'user' %}\\n{{ 'User: \\n' + message['content'] }}\\n{% elif message['role'] == 'system' %}\\n{{ 'System: ' + message['content'] }}\\n{% elif message['role'] == 'assistant' %}\\n{{ 'Falcon:\\n'  + message['content']}}\\n{% endif %}\\n{% if loop.last and add_generation_prompt %}\\n{{ 'Falcon:' }}\\n{% endif %}\\n{% endfor %}\"}\n",
      "Available chat formats from metadata: chat_template.default\n",
      "Using gguf chat template: {% for message in messages %}\n",
      "{% if message['role'] == 'user' %}\n",
      "{{ 'User: \n",
      "' + message['content'] }}\n",
      "{% elif message['role'] == 'system' %}\n",
      "{{ 'System: ' + message['content'] }}\n",
      "{% elif message['role'] == 'assistant' %}\n",
      "{{ 'Falcon:\n",
      "'  + message['content']}}\n",
      "{% endif %}\n",
      "{% if loop.last and add_generation_prompt %}\n",
      "{{ 'Falcon:' }}\n",
      "{% endif %}\n",
      "{% endfor %}\n",
      "Using chat eos_token: <|endoftext|>\n",
      "Using chat bos_token: >>\n"
     ]
    }
   ],
   "source": [
    "# Cria a LLM (LLAMA V2) localmente para interagirmos na sessão de chat\n",
    "chat.create_llm()"
   ]
  },
  {
   "cell_type": "code",
   "execution_count": 102,
   "metadata": {},
   "outputs": [],
   "source": [
    "# Cria o retriever, que irá recuperar os documentos do Vector DB, com base nos Prompts e usando a LLM\n",
    "chat.create_retriever()"
   ]
  },
  {
   "cell_type": "code",
   "execution_count": 103,
   "metadata": {},
   "outputs": [],
   "source": [
    "# Cria uma sessão de chat para Q&A, com base no LLM e Retriever\n",
    "chat.create_qa_session()"
   ]
  },
  {
   "cell_type": "code",
   "execution_count": 104,
   "metadata": {},
   "outputs": [
    {
     "name": "stdout",
     "output_type": "stream",
     "text": [
      "Running on local URL:  http://127.0.0.1:7860\n",
      "\n",
      "To create a public link, set `share=True` in `launch()`.\n"
     ]
    },
    {
     "data": {
      "text/html": [
       "<div><iframe src=\"http://127.0.0.1:7860/\" width=\"100%\" height=\"500\" allow=\"autoplay; camera; microphone; clipboard-read; clipboard-write;\" frameborder=\"0\" allowfullscreen></iframe></div>"
      ],
      "text/plain": [
       "<IPython.core.display.HTML object>"
      ]
     },
     "metadata": {},
     "output_type": "display_data"
    },
    {
     "name": "stderr",
     "output_type": "stream",
     "text": [
      "\n",
      "llama_print_timings:        load time =    1880.93 ms\n",
      "llama_print_timings:      sample time =      74.37 ms /   256 runs   (    0.29 ms per token,  3442.20 tokens per second)\n",
      "llama_print_timings: prompt eval time =   46437.56 ms /   341 tokens (  136.18 ms per token,     7.34 tokens per second)\n",
      "llama_print_timings:        eval time =   80100.34 ms /   255 runs   (  314.12 ms per token,     3.18 tokens per second)\n",
      "llama_print_timings:       total time =  126902.28 ms /   596 tokens\n"
     ]
    },
    {
     "name": "stdout",
     "output_type": "stream",
     "text": [
      "Keyboard interruption in main thread... closing server.\n"
     ]
    }
   ],
   "source": [
    "# Front-End da Aplicação Web - Gradio\n",
    "\n",
    "chat_history = []\n",
    "\n",
    "with gr.Blocks() as demo:\n",
    "\n",
    "    chatbot = gr.Chatbot()\n",
    "    msg = gr.Textbox()\n",
    "    clear = gr.Button(\"Clear\")\n",
    "\n",
    "    chat_history = []\n",
    "    \n",
    "    def user(user_message, chat_history):\n",
    "        \n",
    "        # Retorna resposta da LLM, através da sessão de Q&A\n",
    "        result = chat.qa({\"query\": user_message})\n",
    "        \n",
    "        # Realiza um append na tela do chat, contendo a mensagem do usuário e a resposta do modelo\n",
    "        chat_history.append((user_message, result[\"result\"]))\n",
    "\n",
    "        return gr.update(value=\"\"), chat_history\n",
    "    \n",
    "    msg.submit(user, [msg, chatbot], [msg, chatbot], queue=False)\n",
    "    clear.click(lambda: None, None, chatbot, queue=False)\n",
    "\n",
    "if __name__ == \"__main__\":\n",
    "    demo.launch(debug=True)"
   ]
  }
 ],
 "metadata": {
  "kernelspec": {
   "display_name": "langchain-gNinOHEE",
   "language": "python",
   "name": "python3"
  },
  "language_info": {
   "codemirror_mode": {
    "name": "ipython",
    "version": 3
   },
   "file_extension": ".py",
   "mimetype": "text/x-python",
   "name": "python",
   "nbconvert_exporter": "python",
   "pygments_lexer": "ipython3",
   "version": "3.11.7"
  },
  "orig_nbformat": 4
 },
 "nbformat": 4,
 "nbformat_minor": 2
}
